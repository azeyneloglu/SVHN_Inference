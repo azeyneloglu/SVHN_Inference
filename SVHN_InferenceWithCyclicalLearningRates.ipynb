{
 "cells": [
  {
   "cell_type": "code",
   "execution_count": 1,
   "id": "0083e9c8",
   "metadata": {},
   "outputs": [],
   "source": [
    "import numpy as np\n",
    "import pandas as pd\n",
    "import tensorflow as tf\n",
    "import seaborn as sns\n",
    "import matplotlib.pyplot as plt\n",
    "import scipy.io\n",
    "from numpy import random\n",
    "\n",
    "from sklearn.preprocessing import OneHotEncoder\n",
    "from keras import layers\n",
    "#from keras.layers import Input, Dense, Activation, Flatten\n",
    "from keras.layers import Input, Add, Dense, Activation, ZeroPadding2D, BatchNormalization, Flatten, Conv2D, AveragePooling2D, MaxPooling2D, GlobalMaxPooling2D\n",
    "from keras.models import Model\n",
    "from keras.preprocessing import image\n",
    "from keras.utils import layer_utils\n",
    "from keras.utils import plot_model\n",
    "from keras.layers import Dropout\n",
    "from keras.regularizers import l2\n",
    "from keras.regularizers import l1\n",
    "np.random.seed(5)\n",
    "from sklearn.model_selection import train_test_split\n",
    "import keras\n",
    "from keras.preprocessing.image import ImageDataGenerator\n",
    "from keras.applications.vgg16 import VGG16"
   ]
  },
  {
   "cell_type": "code",
   "execution_count": 2,
   "id": "786588ad",
   "metadata": {},
   "outputs": [],
   "source": [
    "from keras.initializers import glorot_uniform\n",
    "from keras.callbacks import ReduceLROnPlateau"
   ]
  },
  {
   "cell_type": "code",
   "execution_count": 3,
   "id": "dc292123",
   "metadata": {},
   "outputs": [
    {
     "name": "stdout",
     "output_type": "stream",
     "text": [
      "[name: \"/device:CPU:0\"\n",
      "device_type: \"CPU\"\n",
      "memory_limit: 268435456\n",
      "locality {\n",
      "}\n",
      "incarnation: 17505293056418702392\n",
      ", name: \"/device:XLA_CPU:0\"\n",
      "device_type: \"XLA_CPU\"\n",
      "memory_limit: 17179869184\n",
      "locality {\n",
      "}\n",
      "incarnation: 7880757343399939470\n",
      "physical_device_desc: \"device: XLA_CPU device\"\n",
      ", name: \"/device:GPU:0\"\n",
      "device_type: \"GPU\"\n",
      "memory_limit: 3046847284\n",
      "locality {\n",
      "  bus_id: 1\n",
      "  links {\n",
      "  }\n",
      "}\n",
      "incarnation: 14771074576768593826\n",
      "physical_device_desc: \"device: 0, name: NVIDIA GeForce GTX 1650 Ti, pci bus id: 0000:01:00.0, compute capability: 7.5\"\n",
      ", name: \"/device:XLA_GPU:0\"\n",
      "device_type: \"XLA_GPU\"\n",
      "memory_limit: 17179869184\n",
      "locality {\n",
      "}\n",
      "incarnation: 12543404174442539188\n",
      "physical_device_desc: \"device: XLA_GPU device\"\n",
      "]\n"
     ]
    }
   ],
   "source": [
    "from tensorflow.python.client import device_lib\n",
    "print(device_lib.list_local_devices())"
   ]
  },
  {
   "cell_type": "code",
   "execution_count": 4,
   "id": "585a72d2",
   "metadata": {},
   "outputs": [
    {
     "name": "stdout",
     "output_type": "stream",
     "text": [
      "Device found : [PhysicalDevice(name='/physical_device:GPU:0', device_type='GPU')]\n"
     ]
    }
   ],
   "source": [
    "physical_device = tf.config.experimental.list_physical_devices('GPU')\n",
    "print(f'Device found : {physical_device}')"
   ]
  },
  {
   "cell_type": "code",
   "execution_count": 5,
   "id": "c317f085",
   "metadata": {},
   "outputs": [],
   "source": [
    "#importing the data\n",
    "train = scipy.io.loadmat('train_32x32.mat')"
   ]
  },
  {
   "cell_type": "code",
   "execution_count": 6,
   "id": "7e3bb298",
   "metadata": {},
   "outputs": [],
   "source": [
    "train_x = train['X']\n",
    "train_y = train['y']"
   ]
  },
  {
   "cell_type": "code",
   "execution_count": 89,
   "id": "aa2962ad",
   "metadata": {},
   "outputs": [],
   "source": [
    "extra = scipy.io.loadmat('extra_32x32.mat')"
   ]
  },
  {
   "cell_type": "code",
   "execution_count": 8,
   "id": "947275e9",
   "metadata": {},
   "outputs": [],
   "source": [
    "extra_x = extra['X']\n",
    "extra_y = extra['y']"
   ]
  },
  {
   "cell_type": "code",
   "execution_count": 9,
   "id": "a85d2632",
   "metadata": {},
   "outputs": [
    {
     "data": {
      "text/plain": [
       "(32, 32, 3, 531131)"
      ]
     },
     "execution_count": 9,
     "metadata": {},
     "output_type": "execute_result"
    }
   ],
   "source": [
    "extra_x.shape"
   ]
  },
  {
   "cell_type": "code",
   "execution_count": 10,
   "id": "166b508f",
   "metadata": {},
   "outputs": [
    {
     "data": {
      "text/plain": [
       "(531131, 1)"
      ]
     },
     "execution_count": 10,
     "metadata": {},
     "output_type": "execute_result"
    }
   ],
   "source": [
    "extra_y.shape"
   ]
  },
  {
   "cell_type": "code",
   "execution_count": 16,
   "id": "735faaa0",
   "metadata": {},
   "outputs": [
    {
     "data": {
      "text/plain": [
       "(273257, 32, 32, 3)"
      ]
     },
     "execution_count": 16,
     "metadata": {},
     "output_type": "execute_result"
    }
   ],
   "source": [
    "train_x.shape"
   ]
  },
  {
   "cell_type": "code",
   "execution_count": 12,
   "id": "405c7aa5",
   "metadata": {},
   "outputs": [],
   "source": [
    "extra_x = extra_x[:,:,:,:200000]\n",
    "extra_y = extra_y[:200000,:]"
   ]
  },
  {
   "cell_type": "code",
   "execution_count": 13,
   "id": "491ae86b",
   "metadata": {},
   "outputs": [],
   "source": [
    "extra = None\n",
    "del extra"
   ]
  },
  {
   "cell_type": "code",
   "execution_count": 14,
   "id": "a501545f",
   "metadata": {},
   "outputs": [],
   "source": [
    "train_x = np.moveaxis(train_x, -1, 0)\n",
    "\n",
    "extra_x = np.moveaxis(extra_x, -1, 0)\n"
   ]
  },
  {
   "cell_type": "code",
   "execution_count": 15,
   "id": "9a2a9168",
   "metadata": {},
   "outputs": [],
   "source": [
    "train_x = np.vstack((train_x, extra_x))\n",
    "train_y = np.vstack((train_y, extra_y))"
   ]
  },
  {
   "cell_type": "code",
   "execution_count": 17,
   "id": "7867e87d",
   "metadata": {},
   "outputs": [],
   "source": [
    "train_x = train_x.astype('float64')\n",
    "train_x /= 255.0"
   ]
  },
  {
   "cell_type": "code",
   "execution_count": 15,
   "id": "25e81605",
   "metadata": {},
   "outputs": [],
   "source": [
    "temp = int(len(train_x) / 4)\n",
    "\n",
    "train_x_1 = train_x[:temp]\n",
    "train_x_2 = train_x [temp: 2*temp]\n",
    "train_x_3 = train_x [2*temp: 3*temp]\n",
    "train_x_4 = train_x [3*temp: ]"
   ]
  },
  {
   "cell_type": "code",
   "execution_count": 18,
   "id": "69042ea6",
   "metadata": {},
   "outputs": [],
   "source": [
    "def cropandUpsampleImage (X):\n",
    "    \n",
    "    X = tf.image.crop_to_bounding_box(\n",
    "    X, 1, 6, 25, 22)\n",
    "    \n",
    "    X = tf.image.resize(\n",
    "    X, [32,32], method='bilinear', preserve_aspect_ratio=False,\n",
    "    antialias=False)\n",
    "    \n",
    "    return X\n",
    "    \n"
   ]
  },
  {
   "cell_type": "code",
   "execution_count": 19,
   "id": "b2d67598",
   "metadata": {},
   "outputs": [],
   "source": [
    "#Since this is a memory intensive process, process images in chunks\n",
    "temp = int(len(train_x) / 20)\n",
    "for i in range (0, len(train_x), int(len(train_x) / 20) ):\n",
    "    \n",
    "    train_x[i:i+temp] = cropandUpsampleImage(train_x[i:i+temp])"
   ]
  },
  {
   "cell_type": "code",
   "execution_count": 23,
   "id": "b455ee4d",
   "metadata": {},
   "outputs": [],
   "source": [
    "from sklearn.preprocessing import LabelBinarizer\n",
    "train_labels = train_y.astype('int64')\n",
    "lb = LabelBinarizer()\n",
    "train_labels = lb.fit_transform(train_labels)"
   ]
  },
  {
   "cell_type": "code",
   "execution_count": 20,
   "id": "4f186636",
   "metadata": {},
   "outputs": [
    {
     "data": {
      "text/plain": [
       "(273257, 32, 32, 3)"
      ]
     },
     "execution_count": 20,
     "metadata": {},
     "output_type": "execute_result"
    }
   ],
   "source": [
    "train_x.shape"
   ]
  },
  {
   "cell_type": "code",
   "execution_count": 24,
   "id": "a9cb11f8",
   "metadata": {},
   "outputs": [
    {
     "data": {
      "text/plain": [
       "(273257, 10)"
      ]
     },
     "execution_count": 24,
     "metadata": {},
     "output_type": "execute_result"
    }
   ],
   "source": [
    "train_labels.shape"
   ]
  },
  {
   "cell_type": "code",
   "execution_count": 26,
   "id": "c1ae274c",
   "metadata": {},
   "outputs": [],
   "source": [
    "train_x = np.array(train_x)"
   ]
  },
  {
   "cell_type": "code",
   "execution_count": 25,
   "id": "084ffd6f",
   "metadata": {},
   "outputs": [],
   "source": [
    "X_train, X_val, y_train, y_val = train_test_split(train_x, train_labels,\n",
    "                                                  test_size=0.15, random_state=22)"
   ]
  },
  {
   "cell_type": "code",
   "execution_count": 37,
   "id": "6189cc31",
   "metadata": {},
   "outputs": [],
   "source": [
    "#Importing the test set\n",
    "test = scipy.io.loadmat('test_32x32.mat')\n",
    "test_x = test['X']\n",
    "test_y = test['y']\n",
    "\n",
    "test_x = test_x.astype('float64')\n",
    "test_x /= 255.0\n",
    "\n",
    "test_x = np.moveaxis(test_x, -1, 0)\n",
    "\n",
    "test_x = tf.image.crop_to_bounding_box(\n",
    "    test_x , 1, 6, 25, 22\n",
    ")\n",
    "test_x  = tf.image.resize(\n",
    "   test_x , [32,32], method='bilinear', preserve_aspect_ratio=False,\n",
    "    antialias=False\n",
    ")\n",
    "\n",
    "from sklearn.preprocessing import LabelBinarizer\n",
    "test_labels = test_y.astype('int64')\n",
    "lb = LabelBinarizer()\n",
    "test_labels = lb.fit_transform(test_labels)"
   ]
  },
  {
   "cell_type": "code",
   "execution_count": 40,
   "id": "9f71dbe7",
   "metadata": {},
   "outputs": [],
   "source": [
    "def convBlock (X, filters, kernel_size, initializer = glorot_uniform, training = True):\n",
    "    \n",
    "    X = Conv2D (filters=filters, kernel_size = kernel_size, strides = 1, padding = \"same\", kernel_initializer = initializer(seed=10))(X)\n",
    "    X = BatchNormalization(axis=3)(X, training = False)\n",
    "    X = Activation ('relu') (X)\n",
    "    \n",
    "    return X"
   ]
  },
  {
   "cell_type": "code",
   "execution_count": 43,
   "id": "6e271403",
   "metadata": {},
   "outputs": [],
   "source": [
    "def createCustomModel(input_shape=(32,32,3), num_classes = 10):\n",
    "    \n",
    "    X_input = Input(input_shape)\n",
    "    \n",
    "    X = convBlock(X_input,32,(3,3))\n",
    "    \n",
    "    X = convBlock(X,64,(3,3))\n",
    "    \n",
    "    X = convBlock(X,128,(3,3))\n",
    "    \n",
    "    \n",
    "    X = Flatten(name='flatten')(X)\n",
    "    X = Dense(256, activation='relu', name='fc1')(X)\n",
    "    X = Dropout(0.2,seed=10)(X)\n",
    "    X = Dense(128, activation='relu', name='fc2')(X)\n",
    "    X = Dropout(0.3,seed=10)(X)\n",
    "    X = Dense(64, activation='relu', name='fc3')(X)\n",
    "    X = Dropout(0.2,seed=10)(X)\n",
    "    X = Dense(num_classes, activation='softmax', name='predictions')(X)\n",
    "    \n",
    "    model = Model(inputs = X_input, outputs = X)\n",
    "    \n",
    "    return model\n",
    "    "
   ]
  },
  {
   "cell_type": "code",
   "execution_count": 44,
   "id": "bc7ebc31",
   "metadata": {},
   "outputs": [
    {
     "name": "stdout",
     "output_type": "stream",
     "text": [
      "Epoch 1/60\n",
      "  2/686 [..............................] - ETA: 19s - loss: 3.1375 - accuracy: 0.1406WARNING:tensorflow:Callbacks method `on_train_batch_end` is slow compared to the batch time (batch time: 0.0169s vs `on_train_batch_end` time: 0.0388s). Check your callbacks.\n",
      "686/686 [==============================] - 42s 61ms/step - loss: 1.6398 - accuracy: 0.4289 - val_loss: 0.5828 - val_accuracy: 0.8226\n",
      "Epoch 2/60\n",
      "686/686 [==============================] - 41s 60ms/step - loss: 0.7264 - accuracy: 0.7771 - val_loss: 0.4180 - val_accuracy: 0.8738\n",
      "Epoch 3/60\n",
      "686/686 [==============================] - 41s 60ms/step - loss: 0.5730 - accuracy: 0.8271 - val_loss: 0.3522 - val_accuracy: 0.8953\n",
      "Epoch 4/60\n",
      "686/686 [==============================] - 41s 60ms/step - loss: 0.5154 - accuracy: 0.8447 - val_loss: 0.3304 - val_accuracy: 0.9012\n",
      "Epoch 5/60\n",
      "686/686 [==============================] - 41s 60ms/step - loss: 0.4768 - accuracy: 0.8574 - val_loss: 0.3188 - val_accuracy: 0.9040\n",
      "Epoch 6/60\n",
      "686/686 [==============================] - 41s 60ms/step - loss: 0.4480 - accuracy: 0.8672 - val_loss: 0.3065 - val_accuracy: 0.9095\n",
      "Epoch 7/60\n",
      "686/686 [==============================] - 42s 61ms/step - loss: 0.4301 - accuracy: 0.8732 - val_loss: 0.3196 - val_accuracy: 0.9085\n",
      "Epoch 8/60\n",
      "686/686 [==============================] - 42s 61ms/step - loss: 0.4165 - accuracy: 0.8763 - val_loss: 0.2878 - val_accuracy: 0.9163\n",
      "Epoch 9/60\n",
      "686/686 [==============================] - 42s 61ms/step - loss: 0.3941 - accuracy: 0.8835 - val_loss: 0.2846 - val_accuracy: 0.9147\n",
      "Epoch 10/60\n",
      "686/686 [==============================] - 42s 62ms/step - loss: 0.3838 - accuracy: 0.8866 - val_loss: 0.2831 - val_accuracy: 0.9165\n",
      "Epoch 11/60\n",
      "686/686 [==============================] - 43s 62ms/step - loss: 0.3709 - accuracy: 0.8902 - val_loss: 0.2740 - val_accuracy: 0.9198\n",
      "Epoch 12/60\n",
      "686/686 [==============================] - 43s 62ms/step - loss: 0.3654 - accuracy: 0.8927 - val_loss: 0.2753 - val_accuracy: 0.9187\n",
      "Epoch 13/60\n",
      "686/686 [==============================] - 43s 62ms/step - loss: 0.3548 - accuracy: 0.8950 - val_loss: 0.2788 - val_accuracy: 0.9191\n",
      "Epoch 14/60\n",
      "686/686 [==============================] - 43s 63ms/step - loss: 0.3523 - accuracy: 0.8956 - val_loss: 0.2762 - val_accuracy: 0.9199\n",
      "Epoch 15/60\n",
      "686/686 [==============================] - 43s 63ms/step - loss: 0.3420 - accuracy: 0.8988 - val_loss: 0.2741 - val_accuracy: 0.9226\n",
      "Epoch 16/60\n",
      "686/686 [==============================] - 43s 63ms/step - loss: 0.3351 - accuracy: 0.9023 - val_loss: 0.2675 - val_accuracy: 0.9221\n",
      "Epoch 17/60\n",
      "686/686 [==============================] - 43s 63ms/step - loss: 0.3282 - accuracy: 0.9031 - val_loss: 0.2582 - val_accuracy: 0.9242\n",
      "Epoch 18/60\n",
      "686/686 [==============================] - 43s 63ms/step - loss: 0.3233 - accuracy: 0.9047 - val_loss: 0.2678 - val_accuracy: 0.9236\n",
      "Epoch 19/60\n",
      "686/686 [==============================] - 43s 63ms/step - loss: 0.3199 - accuracy: 0.9060 - val_loss: 0.2661 - val_accuracy: 0.9243\n",
      "Epoch 20/60\n",
      "686/686 [==============================] - 43s 63ms/step - loss: 0.3185 - accuracy: 0.9063 - val_loss: 0.2717 - val_accuracy: 0.9226\n",
      "Epoch 21/60\n",
      "686/686 [==============================] - 43s 63ms/step - loss: 0.3134 - accuracy: 0.9076 - val_loss: 0.2663 - val_accuracy: 0.9245\n",
      "Epoch 22/60\n",
      "686/686 [==============================] - 44s 64ms/step - loss: 0.3078 - accuracy: 0.9100 - val_loss: 0.2683 - val_accuracy: 0.9228\n",
      "Epoch 23/60\n",
      "686/686 [==============================] - 43s 63ms/step - loss: 0.2681 - accuracy: 0.9215 - val_loss: 0.2416 - val_accuracy: 0.9319\n",
      "Epoch 24/60\n",
      "686/686 [==============================] - 43s 63ms/step - loss: 0.2602 - accuracy: 0.9238 - val_loss: 0.2380 - val_accuracy: 0.9320\n",
      "Epoch 25/60\n",
      "686/686 [==============================] - 44s 63ms/step - loss: 0.2571 - accuracy: 0.9250 - val_loss: 0.2487 - val_accuracy: 0.9292\n",
      "Epoch 26/60\n",
      "686/686 [==============================] - 43s 63ms/step - loss: 0.2548 - accuracy: 0.9245 - val_loss: 0.2384 - val_accuracy: 0.9325\n",
      "Epoch 27/60\n",
      "686/686 [==============================] - 44s 64ms/step - loss: 0.2474 - accuracy: 0.9272 - val_loss: 0.2369 - val_accuracy: 0.9322\n",
      "Epoch 28/60\n",
      "686/686 [==============================] - 43s 63ms/step - loss: 0.2428 - accuracy: 0.9286 - val_loss: 0.2375 - val_accuracy: 0.9330\n",
      "Epoch 29/60\n",
      "686/686 [==============================] - 43s 63ms/step - loss: 0.2428 - accuracy: 0.9283 - val_loss: 0.2385 - val_accuracy: 0.9326\n",
      "Epoch 30/60\n",
      "686/686 [==============================] - 43s 63ms/step - loss: 0.2415 - accuracy: 0.9296 - val_loss: 0.2395 - val_accuracy: 0.9327\n",
      "Epoch 31/60\n",
      "686/686 [==============================] - 44s 64ms/step - loss: 0.2377 - accuracy: 0.9298 - val_loss: 0.2417 - val_accuracy: 0.9313\n",
      "Epoch 32/60\n",
      "686/686 [==============================] - 44s 64ms/step - loss: 0.2360 - accuracy: 0.9307 - val_loss: 0.2382 - val_accuracy: 0.9327\n",
      "Epoch 33/60\n",
      "686/686 [==============================] - 44s 64ms/step - loss: 0.2280 - accuracy: 0.9327 - val_loss: 0.2357 - val_accuracy: 0.9330\n",
      "Epoch 34/60\n",
      "686/686 [==============================] - 44s 64ms/step - loss: 0.2272 - accuracy: 0.9333 - val_loss: 0.2344 - val_accuracy: 0.9339\n",
      "Epoch 35/60\n",
      "686/686 [==============================] - 44s 64ms/step - loss: 0.2257 - accuracy: 0.9344 - val_loss: 0.2338 - val_accuracy: 0.9339\n",
      "Epoch 36/60\n",
      "686/686 [==============================] - 44s 64ms/step - loss: 0.2276 - accuracy: 0.9342 - val_loss: 0.2345 - val_accuracy: 0.9344\n",
      "Epoch 37/60\n",
      "686/686 [==============================] - 44s 64ms/step - loss: 0.2221 - accuracy: 0.9357 - val_loss: 0.2346 - val_accuracy: 0.9335\n",
      "Epoch 38/60\n",
      "686/686 [==============================] - 44s 64ms/step - loss: 0.2268 - accuracy: 0.9348 - val_loss: 0.2352 - val_accuracy: 0.9335\n",
      "Epoch 39/60\n",
      "686/686 [==============================] - 44s 64ms/step - loss: 0.2221 - accuracy: 0.9344 - val_loss: 0.2337 - val_accuracy: 0.9347\n",
      "Epoch 40/60\n",
      "686/686 [==============================] - 44s 64ms/step - loss: 0.2248 - accuracy: 0.9341 - val_loss: 0.2343 - val_accuracy: 0.9338\n",
      "Epoch 41/60\n",
      "686/686 [==============================] - 44s 64ms/step - loss: 0.2203 - accuracy: 0.9356 - val_loss: 0.2347 - val_accuracy: 0.9338\n",
      "Epoch 42/60\n",
      "686/686 [==============================] - 44s 64ms/step - loss: 0.2175 - accuracy: 0.9366 - val_loss: 0.2344 - val_accuracy: 0.9341\n",
      "Epoch 43/60\n",
      "686/686 [==============================] - 44s 64ms/step - loss: 0.2218 - accuracy: 0.9351 - val_loss: 0.2343 - val_accuracy: 0.9336\n",
      "Epoch 44/60\n",
      "686/686 [==============================] - 44s 64ms/step - loss: 0.2190 - accuracy: 0.9363 - val_loss: 0.2339 - val_accuracy: 0.9334\n",
      "Epoch 45/60\n",
      "686/686 [==============================] - 44s 64ms/step - loss: 0.2208 - accuracy: 0.9358 - val_loss: 0.2336 - val_accuracy: 0.9338\n",
      "Epoch 46/60\n",
      "686/686 [==============================] - 44s 64ms/step - loss: 0.2190 - accuracy: 0.9362 - val_loss: 0.2338 - val_accuracy: 0.9339\n",
      "Epoch 47/60\n",
      "686/686 [==============================] - 44s 64ms/step - loss: 0.2222 - accuracy: 0.9349 - val_loss: 0.2338 - val_accuracy: 0.9343\n",
      "Epoch 48/60\n",
      "686/686 [==============================] - 44s 64ms/step - loss: 0.2147 - accuracy: 0.9368 - val_loss: 0.2340 - val_accuracy: 0.9338\n",
      "Epoch 49/60\n",
      "686/686 [==============================] - 44s 64ms/step - loss: 0.2206 - accuracy: 0.9364 - val_loss: 0.2341 - val_accuracy: 0.9343\n",
      "Epoch 50/60\n",
      "686/686 [==============================] - 44s 64ms/step - loss: 0.2192 - accuracy: 0.9354 - val_loss: 0.2340 - val_accuracy: 0.9341\n",
      "Epoch 51/60\n",
      "686/686 [==============================] - 44s 64ms/step - loss: 0.2189 - accuracy: 0.9360 - val_loss: 0.2341 - val_accuracy: 0.9343\n",
      "Epoch 52/60\n",
      "686/686 [==============================] - 45s 65ms/step - loss: 0.2209 - accuracy: 0.9362 - val_loss: 0.2334 - val_accuracy: 0.93407s - loss: 0 - E\n",
      "Epoch 53/60\n",
      "686/686 [==============================] - 44s 65ms/step - loss: 0.2191 - accuracy: 0.9355 - val_loss: 0.2335 - val_accuracy: 0.9336\n",
      "Epoch 54/60\n",
      "686/686 [==============================] - 44s 64ms/step - loss: 0.2195 - accuracy: 0.9367 - val_loss: 0.2333 - val_accuracy: 0.9338\n",
      "Epoch 55/60\n",
      "686/686 [==============================] - 44s 64ms/step - loss: 0.2206 - accuracy: 0.9355 - val_loss: 0.2335 - val_accuracy: 0.9343\n",
      "Epoch 56/60\n",
      "686/686 [==============================] - 44s 64ms/step - loss: 0.2177 - accuracy: 0.9369 - val_loss: 0.2334 - val_accuracy: 0.9343\n",
      "Epoch 57/60\n",
      "686/686 [==============================] - 44s 64ms/step - loss: 0.2175 - accuracy: 0.9368 - val_loss: 0.2337 - val_accuracy: 0.9345\n",
      "Epoch 58/60\n",
      "686/686 [==============================] - 44s 64ms/step - loss: 0.2208 - accuracy: 0.9361 - val_loss: 0.2334 - val_accuracy: 0.9339\n",
      "Epoch 59/60\n",
      "686/686 [==============================] - 44s 64ms/step - loss: 0.2177 - accuracy: 0.9369 - val_loss: 0.2335 - val_accuracy: 0.9339\n",
      "Epoch 60/60\n",
      "686/686 [==============================] - 44s 64ms/step - loss: 0.2202 - accuracy: 0.9362 - val_loss: 0.2340 - val_accuracy: 0.9340\n"
     ]
    }
   ],
   "source": [
    "my_model = createCustomModel(input_shape=(32,32,3), num_classes = 10)\n",
    "my_model.compile(loss='categorical_crossentropy', optimizer='adam', metrics=['accuracy'])\n",
    "\n",
    "reduce_lr = ReduceLROnPlateau(monitor='val_loss', factor=0.2,\n",
    "                              patience=5, min_lr=0.00001)\n",
    "early_stopping = tf.keras.callbacks.EarlyStopping(patience=10)\n",
    "\n",
    "history_my_model = my_model.fit(datagen.flow(X_train, y_train, batch_size=128),\n",
    "                              epochs=60, validation_data=(X_val, y_val),\n",
    "                               callbacks=[early_stopping,reduce_lr])"
   ]
  },
  {
   "cell_type": "code",
   "execution_count": 26,
   "id": "53aaf57d",
   "metadata": {},
   "outputs": [],
   "source": [
    "def importVGG (num_trainable_layers):\n",
    "\n",
    "    model_vgg16_conv = VGG16(weights='imagenet', include_top=False, input_shape=(32,32,3))\n",
    "\n",
    "    if num_trainable_layers == 0:\n",
    "        for layer in model_vgg16_conv.layers:\n",
    "            layer.trainable = False\n",
    "\n",
    "    for layer in model_vgg16_conv.layers[:(-1*num_trainable_layers)]:\n",
    "        layer.trainable=False\n",
    "        \n",
    "    return model_vgg16_conv"
   ]
  },
  {
   "cell_type": "code",
   "execution_count": 29,
   "id": "b598d44e",
   "metadata": {},
   "outputs": [],
   "source": [
    "def createVGG16Model(train_images, trainable_layers):\n",
    "\n",
    "    base_model = importVGG(trainable_layers)\n",
    "    img_shape = train_images.shape[1:]\n",
    "    num_classes = 10\n",
    "    #Create your own input formats\n",
    "    keras_input = Input(shape=img_shape, name = 'image_input')\n",
    "\n",
    "    #Use the generated model \n",
    "    output_vgg16_conv = base_model(keras_input)\n",
    "\n",
    "    # Add the fully-connected layers \n",
    "    My_vgg16 = Flatten(name='flatten')(output_vgg16_conv)\n",
    "    My_vgg16 = Dense(512, activation='relu', name='fc1')(My_vgg16)\n",
    "    My_vgg16 = Dropout(0.2,seed=10)(My_vgg16)\n",
    "    My_vgg16 = Dense(256, activation='relu', name='fc2')(My_vgg16)\n",
    "    My_vgg16 = Dropout(0.3,seed=10)(My_vgg16)\n",
    "    My_vgg16 = Dense(64, activation='relu', name='fc3')(My_vgg16)\n",
    "    My_vgg16 = Dropout(0.2,seed=10)(My_vgg16)\n",
    "    My_vgg16 = Dense(num_classes, activation='softmax', name='predictions')(My_vgg16)\n",
    "\n",
    "    #Create your own model \n",
    "    model = Model(inputs=keras_input, outputs=My_vgg16)\n",
    "    return model"
   ]
  },
  {
   "cell_type": "code",
   "execution_count": 30,
   "id": "b39c9473",
   "metadata": {},
   "outputs": [],
   "source": [
    "datagen = ImageDataGenerator(rotation_range=8,\n",
    "                             zoom_range=[0.95, 1.05],\n",
    "                             height_shift_range=0.10,\n",
    "                             shear_range=0.15)"
   ]
  },
  {
   "cell_type": "code",
   "execution_count": 134,
   "id": "b59d45e4",
   "metadata": {},
   "outputs": [
    {
     "name": "stdout",
     "output_type": "stream",
     "text": [
      "Epoch 1/50\n",
      "  2/686 [..............................] - ETA: 20s - loss: 2.4139 - accuracy: 0.1094WARNING:tensorflow:Callbacks method `on_train_batch_end` is slow compared to the batch time (batch time: 0.0239s vs `on_train_batch_end` time: 0.0362s). Check your callbacks.\n",
      "686/686 [==============================] - 46s 66ms/step - loss: 1.3060 - accuracy: 0.5456 - val_loss: 0.5416 - val_accuracy: 0.8425\n",
      "Epoch 2/50\n",
      "686/686 [==============================] - 46s 67ms/step - loss: 0.4977 - accuracy: 0.8687 - val_loss: 0.3697 - val_accuracy: 0.8988\n",
      "Epoch 3/50\n",
      "686/686 [==============================] - 46s 68ms/step - loss: 0.4002 - accuracy: 0.8940 - val_loss: 0.2977 - val_accuracy: 0.9198\n",
      "Epoch 4/50\n",
      "686/686 [==============================] - 48s 69ms/step - loss: 0.3506 - accuracy: 0.9068 - val_loss: 0.2691 - val_accuracy: 0.9259\n",
      "Epoch 5/50\n",
      "686/686 [==============================] - 48s 70ms/step - loss: 0.3210 - accuracy: 0.9158 - val_loss: 0.2749 - val_accuracy: 0.9287\n",
      "Epoch 6/50\n",
      "686/686 [==============================] - 48s 70ms/step - loss: 0.3034 - accuracy: 0.9203 - val_loss: 0.2931 - val_accuracy: 0.9181\n",
      "Epoch 7/50\n",
      "686/686 [==============================] - 48s 70ms/step - loss: 0.2859 - accuracy: 0.9253 - val_loss: 0.2596 - val_accuracy: 0.9330\n",
      "Epoch 8/50\n",
      "686/686 [==============================] - 48s 69ms/step - loss: 0.2698 - accuracy: 0.9288 - val_loss: 0.2459 - val_accuracy: 0.9360\n",
      "Epoch 9/50\n",
      "686/686 [==============================] - 48s 70ms/step - loss: 0.2616 - accuracy: 0.9308 - val_loss: 0.2475 - val_accuracy: 0.9345\n",
      "Epoch 10/50\n",
      "686/686 [==============================] - 48s 70ms/step - loss: 0.2487 - accuracy: 0.9350 - val_loss: 0.2303 - val_accuracy: 0.9373\n",
      "Epoch 11/50\n",
      "686/686 [==============================] - 48s 70ms/step - loss: 0.2378 - accuracy: 0.9374 - val_loss: 0.2291 - val_accuracy: 0.9410\n",
      "Epoch 12/50\n",
      "686/686 [==============================] - 48s 70ms/step - loss: 0.2281 - accuracy: 0.9400 - val_loss: 0.2196 - val_accuracy: 0.9438\n",
      "Epoch 13/50\n",
      "686/686 [==============================] - 48s 71ms/step - loss: 0.2248 - accuracy: 0.9403 - val_loss: 0.2364 - val_accuracy: 0.9374\n",
      "Epoch 14/50\n",
      "686/686 [==============================] - 48s 71ms/step - loss: 0.2155 - accuracy: 0.9433 - val_loss: 0.2287 - val_accuracy: 0.9421\n",
      "Epoch 15/50\n",
      "686/686 [==============================] - 48s 70ms/step - loss: 0.2124 - accuracy: 0.9443 - val_loss: 0.2272 - val_accuracy: 0.9357\n",
      "Epoch 16/50\n",
      "686/686 [==============================] - 49s 71ms/step - loss: 0.2095 - accuracy: 0.9449 - val_loss: 0.2288 - val_accuracy: 0.9426\n",
      "Epoch 17/50\n",
      "686/686 [==============================] - 49s 71ms/step - loss: 0.2026 - accuracy: 0.9475 - val_loss: 0.2353 - val_accuracy: 0.9372\n",
      "Epoch 18/50\n",
      "686/686 [==============================] - 49s 71ms/step - loss: 0.1986 - accuracy: 0.9486 - val_loss: 0.2483 - val_accuracy: 0.9415\n",
      "Epoch 19/50\n",
      "686/686 [==============================] - 48s 71ms/step - loss: 0.1938 - accuracy: 0.9503 - val_loss: 0.2309 - val_accuracy: 0.9396\n",
      "Epoch 20/50\n",
      "686/686 [==============================] - 49s 71ms/step - loss: 0.1940 - accuracy: 0.9492 - val_loss: 0.2372 - val_accuracy: 0.9414\n",
      "Epoch 21/50\n",
      "686/686 [==============================] - 48s 71ms/step - loss: 0.1850 - accuracy: 0.9510 - val_loss: 0.2241 - val_accuracy: 0.9435\n",
      "Epoch 22/50\n",
      "686/686 [==============================] - 48s 71ms/step - loss: 0.1813 - accuracy: 0.9526 - val_loss: 0.2270 - val_accuracy: 0.9443\n"
     ]
    }
   ],
   "source": [
    "optimizer = tf.keras.optimizers.Adam(amsgrad = True)\n",
    "early_stopping = tf.keras.callbacks.EarlyStopping(patience=10)\n",
    "vgg_model = createVGG16Model(X_train,12)\n",
    "\n",
    "vgg_model.compile(loss='categorical_crossentropy', optimizer=optimizer, metrics=['accuracy'])\n",
    "\n",
    "early_stopping = tf.keras.callbacks.EarlyStopping(patience=10)\n",
    "\n",
    "history = vgg_model.fit(datagen.flow(X_train, y_train, batch_size=128),\n",
    "                              epochs=50, validation_data=(X_val, y_val),\n",
    "                               callbacks=[early_stopping])"
   ]
  },
  {
   "cell_type": "code",
   "execution_count": 135,
   "id": "13565834",
   "metadata": {},
   "outputs": [
    {
     "name": "stdout",
     "output_type": "stream",
     "text": [
      "204/204 [==============================] - 4s 20ms/step - loss: 0.2462 - accuracy: 0.9403\n",
      "\n",
      "Loss = 0.2461944967508316\n",
      "Test Accuracy = 0.9403426647186279\n"
     ]
    }
   ],
   "source": [
    "\n",
    "preds_st = vgg_model.evaluate(x= test_x, y=test_labels,  batch_size=128)\n",
    "print()\n",
    "print (\"Loss = \" + str(preds_st[0]))\n",
    "print (\"Test Accuracy = \" + str(preds_st[1]))"
   ]
  },
  {
   "cell_type": "code",
   "execution_count": 144,
   "id": "d918ff15",
   "metadata": {},
   "outputs": [
    {
     "name": "stdout",
     "output_type": "stream",
     "text": [
      "Epoch 1/50\n",
      "686/686 [==============================] - 48s 70ms/step - loss: 1.2832 - accuracy: 0.5735 - val_loss: 0.5664 - val_accuracy: 0.8351\n",
      "Epoch 2/50\n",
      "686/686 [==============================] - 48s 71ms/step - loss: 0.4955 - accuracy: 0.8662 - val_loss: 0.3493 - val_accuracy: 0.9034\n",
      "Epoch 3/50\n",
      "686/686 [==============================] - 49s 71ms/step - loss: 0.3962 - accuracy: 0.8937 - val_loss: 0.2869 - val_accuracy: 0.9188\n",
      "Epoch 4/50\n",
      "686/686 [==============================] - 49s 71ms/step - loss: 0.3518 - accuracy: 0.9071 - val_loss: 0.2912 - val_accuracy: 0.9194\n",
      "Epoch 5/50\n",
      "686/686 [==============================] - 49s 72ms/step - loss: 0.3283 - accuracy: 0.9142 - val_loss: 0.2779 - val_accuracy: 0.9269\n",
      "Epoch 6/50\n",
      "686/686 [==============================] - 50s 73ms/step - loss: 0.2946 - accuracy: 0.9224 - val_loss: 0.2477 - val_accuracy: 0.9327\n",
      "Epoch 7/50\n",
      "686/686 [==============================] - 50s 73ms/step - loss: 0.2798 - accuracy: 0.9271 - val_loss: 0.2450 - val_accuracy: 0.9330\n",
      "Epoch 8/50\n",
      "686/686 [==============================] - 51s 74ms/step - loss: 0.2667 - accuracy: 0.9296 - val_loss: 0.2429 - val_accuracy: 0.9340\n",
      "Epoch 9/50\n",
      "686/686 [==============================] - 51s 74ms/step - loss: 0.2544 - accuracy: 0.9339 - val_loss: 0.2256 - val_accuracy: 0.9414\n",
      "Epoch 10/50\n",
      "686/686 [==============================] - 51s 75ms/step - loss: 0.2375 - accuracy: 0.9380 - val_loss: 0.2208 - val_accuracy: 0.9412\n",
      "Epoch 11/50\n",
      "686/686 [==============================] - 51s 75ms/step - loss: 0.2359 - accuracy: 0.9382 - val_loss: 0.2415 - val_accuracy: 0.9359\n",
      "Epoch 12/50\n",
      "686/686 [==============================] - 51s 75ms/step - loss: 0.2298 - accuracy: 0.9398 - val_loss: 0.2193 - val_accuracy: 0.9431\n",
      "Epoch 13/50\n",
      "686/686 [==============================] - 51s 74ms/step - loss: 0.2241 - accuracy: 0.9405 - val_loss: 0.2273 - val_accuracy: 0.9412\n",
      "Epoch 14/50\n",
      "686/686 [==============================] - 51s 75ms/step - loss: 0.2136 - accuracy: 0.9441 - val_loss: 0.2234 - val_accuracy: 0.9416\n",
      "Epoch 15/50\n",
      "686/686 [==============================] - 51s 75ms/step - loss: 0.2015 - accuracy: 0.9466 - val_loss: 0.2230 - val_accuracy: 0.9408\n",
      "Epoch 16/50\n",
      "686/686 [==============================] - 52s 75ms/step - loss: 0.2011 - accuracy: 0.9476 - val_loss: 0.2173 - val_accuracy: 0.9430\n",
      "Epoch 17/50\n",
      "686/686 [==============================] - 52s 76ms/step - loss: 0.1909 - accuracy: 0.9502 - val_loss: 0.2234 - val_accuracy: 0.9439\n",
      "Epoch 18/50\n",
      "686/686 [==============================] - 52s 76ms/step - loss: 0.1882 - accuracy: 0.9514 - val_loss: 0.2272 - val_accuracy: 0.9442\n",
      "Epoch 19/50\n",
      "686/686 [==============================] - 52s 75ms/step - loss: 0.1859 - accuracy: 0.9515 - val_loss: 0.2174 - val_accuracy: 0.9443\n",
      "Epoch 20/50\n",
      "686/686 [==============================] - 52s 75ms/step - loss: 0.1809 - accuracy: 0.9532 - val_loss: 0.2342 - val_accuracy: 0.9458\n",
      "Epoch 21/50\n",
      "686/686 [==============================] - 52s 76ms/step - loss: 0.1811 - accuracy: 0.9534 - val_loss: 0.2185 - val_accuracy: 0.9462\n",
      "Epoch 22/50\n",
      "686/686 [==============================] - 52s 75ms/step - loss: 0.1324 - accuracy: 0.9660 - val_loss: 0.1979 - val_accuracy: 0.9516\n",
      "Epoch 23/50\n",
      "686/686 [==============================] - 52s 76ms/step - loss: 0.1171 - accuracy: 0.9700 - val_loss: 0.2052 - val_accuracy: 0.9513\n",
      "Epoch 24/50\n",
      "686/686 [==============================] - 52s 76ms/step - loss: 0.1091 - accuracy: 0.9714 - val_loss: 0.2031 - val_accuracy: 0.9519\n",
      "Epoch 25/50\n",
      "686/686 [==============================] - 52s 76ms/step - loss: 0.1066 - accuracy: 0.9727 - val_loss: 0.2036 - val_accuracy: 0.9521\n",
      "Epoch 26/50\n",
      "686/686 [==============================] - 52s 76ms/step - loss: 0.1010 - accuracy: 0.9742 - val_loss: 0.2140 - val_accuracy: 0.9518\n",
      "Epoch 27/50\n",
      "686/686 [==============================] - 52s 76ms/step - loss: 0.0965 - accuracy: 0.9754 - val_loss: 0.2162 - val_accuracy: 0.9525\n",
      "Epoch 28/50\n",
      "686/686 [==============================] - 52s 76ms/step - loss: 0.0888 - accuracy: 0.9772 - val_loss: 0.2201 - val_accuracy: 0.9512\n",
      "Epoch 29/50\n",
      "686/686 [==============================] - 52s 76ms/step - loss: 0.0854 - accuracy: 0.9782 - val_loss: 0.2260 - val_accuracy: 0.9519\n",
      "Epoch 30/50\n",
      "686/686 [==============================] - 52s 76ms/step - loss: 0.0841 - accuracy: 0.9785 - val_loss: 0.2250 - val_accuracy: 0.9524\n",
      "Epoch 31/50\n",
      "686/686 [==============================] - 52s 76ms/step - loss: 0.0809 - accuracy: 0.9797 - val_loss: 0.2273 - val_accuracy: 0.9517\n",
      "Epoch 32/50\n",
      "686/686 [==============================] - 52s 76ms/step - loss: 0.0787 - accuracy: 0.9800 - val_loss: 0.2282 - val_accuracy: 0.9520\n"
     ]
    }
   ],
   "source": [
    "from keras.callbacks import ReduceLROnPlateau\n",
    "reduce_lr = ReduceLROnPlateau(monitor='val_loss', factor=0.2,\n",
    "                              patience=5, min_lr=0.0001)\n",
    "optimizer = tf.keras.optimizers.Adam(amsgrad = True)\n",
    "early_stopping = tf.keras.callbacks.EarlyStopping(patience=10)\n",
    "vgg_model_reduce_lr = createVGG16Model(X_train,12)\n",
    "\n",
    "vgg_model_reduce_lr.compile(loss='categorical_crossentropy', optimizer=optimizer, metrics=['accuracy'])\n",
    "\n",
    "early_stopping = tf.keras.callbacks.EarlyStopping(patience=10)\n",
    "\n",
    "history = vgg_model_reduce_lr.fit(datagen.flow(X_train, y_train, batch_size=128),\n",
    "                              epochs=50, validation_data=(X_val, y_val),\n",
    "                               callbacks=[early_stopping,reduce_lr])"
   ]
  },
  {
   "cell_type": "code",
   "execution_count": 99,
   "id": "b2dd1997",
   "metadata": {},
   "outputs": [
    {
     "name": "stdout",
     "output_type": "stream",
     "text": [
      "Loss = 0.22064294469356535\n",
      "Test Accuracy = 9481202582465012\n"
     ]
    }
   ],
   "source": [
    "preds_reduce_lr = vgg_model.evaluate(x= test_x, y=test_labels,  batch_size=128)\n",
    "print (\"Loss = \" + str(preds_reduce_lr[0]))\n",
    "print (\"Test Accuracy = \" + str(preds_reduce_lr[1]))"
   ]
  },
  {
   "cell_type": "code",
   "execution_count": 32,
   "id": "c4c97ef2",
   "metadata": {},
   "outputs": [],
   "source": [
    "from tensorflow_addons.optimizers import CyclicalLearningRate"
   ]
  },
  {
   "cell_type": "code",
   "execution_count": 34,
   "id": "319730cc",
   "metadata": {},
   "outputs": [],
   "source": [
    "epochs_within_each_step = 3\n",
    "iterations_in_epoch = len(X_train) / 128\n",
    "step_size = iterations_in_epoch * epochs_within_each_step"
   ]
  },
  {
   "cell_type": "code",
   "execution_count": 35,
   "id": "a5d5e74f",
   "metadata": {},
   "outputs": [],
   "source": [
    "cyclical_learning_rate = CyclicalLearningRate(\n",
    " initial_learning_rate=(1e-4),\n",
    " maximal_learning_rate=(1e-3),\n",
    " step_size=step_size,\n",
    " scale_fn=lambda x: 1 / (2.0 ** (x - 1)),\n",
    " scale_mode='cycle')"
   ]
  },
  {
   "cell_type": "code",
   "execution_count": 120,
   "id": "6ff6b6a3",
   "metadata": {},
   "outputs": [
    {
     "name": "stdout",
     "output_type": "stream",
     "text": [
      "Epoch 1/50\n",
      "686/686 [==============================] - 46s 67ms/step - loss: 0.6261 - accuracy: 0.8145 - val_loss: 0.3368 - val_accuracy: 0.9096\n",
      "Epoch 2/50\n",
      "686/686 [==============================] - 46s 67ms/step - loss: 0.3935 - accuracy: 0.8971 - val_loss: 0.3222 - val_accuracy: 0.9208\n",
      "Epoch 3/50\n",
      "686/686 [==============================] - 46s 67ms/step - loss: 0.3827 - accuracy: 0.9020 - val_loss: 0.3616 - val_accuracy: 0.9020\n",
      "Epoch 4/50\n",
      "686/686 [==============================] - 47s 68ms/step - loss: 0.3140 - accuracy: 0.9198 - val_loss: 0.2284 - val_accuracy: 0.9421\n",
      "Epoch 5/50\n",
      "686/686 [==============================] - 47s 69ms/step - loss: 0.2269 - accuracy: 0.9418 - val_loss: 0.1805 - val_accuracy: 0.9516\n",
      "Epoch 6/50\n",
      "686/686 [==============================] - 48s 69ms/step - loss: 0.1666 - accuracy: 0.9567 - val_loss: 0.1613 - val_accuracy: 0.9571oss: 0.1666 - \n",
      "Epoch 7/50\n",
      "686/686 [==============================] - 48s 70ms/step - loss: 0.1385 - accuracy: 0.9649 - val_loss: 0.1750 - val_accuracy: 0.9569\n",
      "Epoch 8/50\n",
      "686/686 [==============================] - 48s 70ms/step - loss: 0.1450 - accuracy: 0.9630 - val_loss: 0.1730 - val_accuracy: 0.9549\n",
      "Epoch 9/50\n",
      "686/686 [==============================] - 48s 70ms/step - loss: 0.1559 - accuracy: 0.9592 - val_loss: 0.1972 - val_accuracy: 0.9498\n",
      "Epoch 10/50\n",
      "686/686 [==============================] - 48s 70ms/step - loss: 0.1535 - accuracy: 0.9611 - val_loss: 0.1788 - val_accuracy: 0.9540\n",
      "Epoch 11/50\n",
      "686/686 [==============================] - 48s 70ms/step - loss: 0.1171 - accuracy: 0.9705 - val_loss: 0.1730 - val_accuracy: 0.9561\n",
      "Epoch 12/50\n",
      "686/686 [==============================] - 49s 71ms/step - loss: 0.0867 - accuracy: 0.9788 - val_loss: 0.1733 - val_accuracy: 0.9599\n",
      "Epoch 13/50\n",
      "686/686 [==============================] - 49s 71ms/step - loss: 0.0716 - accuracy: 0.9833 - val_loss: 0.1811 - val_accuracy: 0.9603\n",
      "Epoch 14/50\n",
      "686/686 [==============================] - 49s 71ms/step - loss: 0.0720 - accuracy: 0.9826 - val_loss: 0.1875 - val_accuracy: 0.9582\n",
      "Epoch 15/50\n",
      "686/686 [==============================] - 49s 71ms/step - loss: 0.0806 - accuracy: 0.9801 - val_loss: 0.1983 - val_accuracy: 0.9534\n",
      "Epoch 16/50\n",
      "686/686 [==============================] - 49s 71ms/step - loss: 0.0755 - accuracy: 0.9819 - val_loss: 0.2029 - val_accuracy: 0.9555\n"
     ]
    }
   ],
   "source": [
    "optimizer = tf.keras.optimizers.Adam(learning_rate = cyclical_learning_rate,amsgrad = True)\n",
    "early_stopping = tf.keras.callbacks.EarlyStopping(patience=10)\n",
    "vgg_cyclic = createVGG16Model(X_train,12)\n",
    "\n",
    "vgg_cyclic.compile(loss='categorical_crossentropy', optimizer=optimizer, metrics=['accuracy'])\n",
    "\n",
    "early_stopping = tf.keras.callbacks.EarlyStopping(patience=10)\n",
    "\n",
    "history_cyclic = vgg_cyclic.fit(datagen.flow(X_train, y_train, batch_size=128),\n",
    "                              epochs=50, validation_data=(X_val, y_val),\n",
    "                               callbacks=[early_stopping])"
   ]
  },
  {
   "cell_type": "code",
   "execution_count": 98,
   "id": "3f7da063",
   "metadata": {},
   "outputs": [
    {
     "name": "stdout",
     "output_type": "stream",
     "text": [
      "Loss = 0.20064294469356536\n",
      "Test Accuracy = 0.9561955786705016\n"
     ]
    }
   ],
   "source": [
    "preds_cyclic = vgg_cyclic.evaluate(x= test_x, y=test_labels,  batch_size=128)\n",
    "print()\n",
    "print (\"Loss = \" + str(preds_cyclic[0]))\n",
    "print (\"Test Accuracy = \" + str(preds_cyclic[1]))\n"
   ]
  },
  {
   "cell_type": "code",
   "execution_count": 96,
   "id": "c563b7a3",
   "metadata": {},
   "outputs": [],
   "source": [
    "results = {'LearningRateType': [], 'TestSetAccuracy': []}\n",
    "\n",
    "results['LearningRateType'].append('Standard')\n",
    "results['TestSetAccuracy'].append(preds_st[0])\n",
    "\n",
    "results['LearningRateType'].append('ReduceLROnPlateau')\n",
    "results['TestSetAccuracy'].append(preds_reduce_lr[1])\n",
    "\n",
    "results['LearningRateType'].append('Cyclic')\n",
    "results['TestSetAccuracy'].append(0.956)\n",
    "\n",
    "\n",
    "\n",
    "results_df = pd.DataFrame(results)\n"
   ]
  },
  {
   "cell_type": "code",
   "execution_count": 97,
   "id": "ed6234d0",
   "metadata": {},
   "outputs": [
    {
     "data": {
      "image/png": "[encoded data removed]",
      "text/plain": [
       "<Figure size 648x360 with 1 Axes>"
      ]
     },
     "metadata": {
      "needs_background": "light"
     },
     "output_type": "display_data"
    }
   ],
   "source": [
    "plt.figure(figsize=(9,5))\n",
    "g = sns.barplot(x=\"LearningRateType\", y=\"TestSetAccuracy\", data=results_df)\n",
    "\n",
    "ax=g\n",
    "#annotate axis = seaborn axis\n",
    "for p in ax.patches:\n",
    "             ax.annotate(\"%.3f\" % p.get_height(), (p.get_x() + p.get_width() / 2., p.get_height()),\n",
    "                 ha='center', va='center', fontsize=11, color='gray', xytext=(0, 20),\n",
    "                 textcoords='offset points')\n",
    "_ = g.set_ylim(0,1) #To make space for the annotations"
   ]
  },
  {
   "cell_type": "code",
   "execution_count": null,
   "id": "73ee448d",
   "metadata": {},
   "outputs": [],
   "source": [
    "cyclical_learning_rate_first = CyclicalLearningRate(\n",
    " initial_learning_rate=(1e-4),\n",
    " maximal_learning_rate=(1e-3),\n",
    " step_size=step_size,\n",
    " scale_fn=lambda x: 1 / (2.0 ** (x - 1)),\n",
    " scale_mode='cycle')"
   ]
  },
  {
   "cell_type": "code",
   "execution_count": 36,
   "id": "80e98b08",
   "metadata": {},
   "outputs": [
    {
     "name": "stdout",
     "output_type": "stream",
     "text": [
      "Epoch 1/60\n",
      "1815/1815 [==============================] - 124s 68ms/step - loss: 0.3535 - accuracy: 0.9026 - val_loss: 0.1749 - val_accuracy: 0.9513\n",
      "Epoch 2/60\n",
      "1815/1815 [==============================] - 123s 68ms/step - loss: 0.2314 - accuracy: 0.9418 - val_loss: 0.1684 - val_accuracy: 0.9563\n",
      "Epoch 3/60\n",
      "1815/1815 [==============================] - 125s 69ms/step - loss: 0.2204 - accuracy: 0.9453 - val_loss: 0.1681 - val_accuracy: 0.9572\n",
      "Epoch 4/60\n",
      "1815/1815 [==============================] - 126s 69ms/step - loss: 0.1822 - accuracy: 0.9550 - val_loss: 0.1398 - val_accuracy: 0.9650\n",
      "Epoch 5/60\n",
      "1815/1815 [==============================] - 128s 70ms/step - loss: 0.1281 - accuracy: 0.9679 - val_loss: 0.1051 - val_accuracy: 0.9735\n",
      "Epoch 6/60\n",
      "1815/1815 [==============================] - 129s 71ms/step - loss: 0.0920 - accuracy: 0.9769 - val_loss: 0.0915 - val_accuracy: 0.9757\n",
      "Epoch 7/60\n",
      "1815/1815 [==============================] - 129s 71ms/step - loss: 0.0783 - accuracy: 0.9805 - val_loss: 0.0969 - val_accuracy: 0.9757\n",
      "Epoch 8/60\n",
      "1815/1815 [==============================] - 129s 71ms/step - loss: 0.0793 - accuracy: 0.9798 - val_loss: 0.1048 - val_accuracy: 0.9731\n",
      "Epoch 9/60\n",
      "1815/1815 [==============================] - 129s 71ms/step - loss: 0.0881 - accuracy: 0.9779 - val_loss: 0.1155 - val_accuracy: 0.9698\n",
      "Epoch 10/60\n",
      "1815/1815 [==============================] - 130s 72ms/step - loss: 0.0866 - accuracy: 0.9782 - val_loss: 0.1066 - val_accuracy: 0.9744\n",
      "Epoch 11/60\n",
      "1815/1815 [==============================] - 129s 71ms/step - loss: 0.0675 - accuracy: 0.9836 - val_loss: 0.0975 - val_accuracy: 0.9758\n",
      "Epoch 12/60\n",
      "1815/1815 [==============================] - 131s 72ms/step - loss: 0.0513 - accuracy: 0.9880 - val_loss: 0.0977 - val_accuracy: 0.9767\n",
      "Epoch 13/60\n",
      "1815/1815 [==============================] - 131s 72ms/step - loss: 0.0429 - accuracy: 0.9902 - val_loss: 0.1066 - val_accuracy: 0.9765\n",
      "Epoch 14/60\n",
      "1815/1815 [==============================] - 131s 72ms/step - loss: 0.0439 - accuracy: 0.9898 - val_loss: 0.1098 - val_accuracy: 0.9751\n",
      "Epoch 15/60\n",
      "1815/1815 [==============================] - 131s 72ms/step - loss: 0.0477 - accuracy: 0.9885 - val_loss: 0.1081 - val_accuracy: 0.9760\n",
      "Epoch 16/60\n",
      "1815/1815 [==============================] - 131s 72ms/step - loss: 0.0462 - accuracy: 0.9891 - val_loss: 0.1096 - val_accuracy: 0.9761\n"
     ]
    }
   ],
   "source": [
    "# Iteration 1\n",
    "optimizer = tf.keras.optimizers.Adam(learning_rate = cyclical_learning_rate_first,amsgrad = True)\n",
    "early_stopping = tf.keras.callbacks.EarlyStopping(patience=10)\n",
    "vgg_cyclic_extra = createVGG16Model(X_train,12)\n",
    "\n",
    "vgg_cyclic_extra.compile(loss='categorical_crossentropy', optimizer=optimizer, metrics=['accuracy'])\n",
    "\n",
    "early_stopping = tf.keras.callbacks.EarlyStopping(patience=10)\n",
    "\n",
    "history_cyclic_first = vgg_cyclic_extra.fit(datagen.flow(X_train, y_train, batch_size=128),\n",
    "                              epochs=60, validation_data=(X_val, y_val),\n",
    "                               callbacks=[early_stopping])"
   ]
  },
  {
   "cell_type": "code",
   "execution_count": 45,
   "id": "5e462d5b",
   "metadata": {},
   "outputs": [
    {
     "name": "stdout",
     "output_type": "stream",
     "text": [
      "204/204 [==============================] - 5s 22ms/step - loss: 0.1581 - accuracy: 0.9657\n",
      "\n",
      "Loss = 0.15806366503238678\n",
      "Test Accuracy = 0.9656960368156433\n"
     ]
    }
   ],
   "source": [
    "#newww\n",
    "preds_extra = vgg_cyclic_extra.evaluate(x= test_x, y=test_labels,  batch_size=128)\n",
    "print()\n",
    "print (\"Loss = \" + str(preds_extra[0]))\n",
    "print (\"Test Accuracy = \" + str(preds_extra[1]))"
   ]
  },
  {
   "cell_type": "code",
   "execution_count": 57,
   "id": "a5023039",
   "metadata": {},
   "outputs": [],
   "source": [
    "cyclical_learning_rate_next = CyclicalLearningRate(\n",
    " initial_learning_rate=(2e-5),\n",
    " maximal_learning_rate=(1e-4),\n",
    " step_size=step_size,\n",
    " scale_fn=lambda x: 1 / (2.0 ** (x - 1)),\n",
    " scale_mode='cycle')"
   ]
  },
  {
   "cell_type": "code",
   "execution_count": 61,
   "id": "216a0fcb",
   "metadata": {},
   "outputs": [],
   "source": [
    "#Copying the weights to start the new iteration with reduced cyclical learning rate\n",
    "vgg_next_iter = keras.models.clone_model(vgg_cyclic_extra)\n",
    "\n",
    "vgg_next_iter.set_weights(vgg_cyclic_extra.get_weights())"
   ]
  },
  {
   "cell_type": "code",
   "execution_count": 62,
   "id": "8b66b292",
   "metadata": {},
   "outputs": [
    {
     "name": "stdout",
     "output_type": "stream",
     "text": [
      "Epoch 1/60\n",
      "   2/1815 [..............................] - ETA: 1:02 - loss: 0.0471 - accuracy: 0.9844WARNING:tensorflow:Callbacks method `on_train_batch_end` is slow compared to the batch time (batch time: 0.0263s vs `on_train_batch_end` time: 0.0438s). Check your callbacks.\n",
      "1815/1815 [==============================] - 123s 68ms/step - loss: 0.0317 - accuracy: 0.9928 - val_loss: 0.1184 - val_accuracy: 0.9757\n",
      "Epoch 2/60\n",
      "1815/1815 [==============================] - 127s 70ms/step - loss: 0.0304 - accuracy: 0.9933 - val_loss: 0.1209 - val_accuracy: 0.9753\n",
      "Epoch 3/60\n",
      "1815/1815 [==============================] - 129s 71ms/step - loss: 0.0312 - accuracy: 0.9929 - val_loss: 0.1233 - val_accuracy: 0.9751\n",
      "Epoch 4/60\n",
      "1815/1815 [==============================] - 130s 72ms/step - loss: 0.0297 - accuracy: 0.9931 - val_loss: 0.1227 - val_accuracy: 0.9751\n",
      "Epoch 5/60\n",
      "1815/1815 [==============================] - 130s 72ms/step - loss: 0.0218 - accuracy: 0.9949 - val_loss: 0.1331 - val_accuracy: 0.9757\n",
      "Epoch 6/60\n",
      "1815/1815 [==============================] - 130s 72ms/step - loss: 0.0176 - accuracy: 0.9962 - val_loss: 0.1390 - val_accuracy: 0.9762\n",
      "Epoch 7/60\n",
      "1815/1815 [==============================] - 131s 72ms/step - loss: 0.0151 - accuracy: 0.9967 - val_loss: 0.1427 - val_accuracy: 0.9762\n",
      "Epoch 8/60\n",
      "1815/1815 [==============================] - 131s 72ms/step - loss: 0.0150 - accuracy: 0.9966 - val_loss: 0.1449 - val_accuracy: 0.9759\n",
      "Epoch 9/60\n",
      "1815/1815 [==============================] - 131s 72ms/step - loss: 0.0145 - accuracy: 0.9966 - val_loss: 0.1546 - val_accuracy: 0.9750\n",
      "Epoch 10/60\n",
      "1815/1815 [==============================] - 132s 72ms/step - loss: 0.0141 - accuracy: 0.9968 - val_loss: 0.1494 - val_accuracy: 0.9762\n",
      "Epoch 11/60\n",
      "1815/1815 [==============================] - 131s 72ms/step - loss: 0.0125 - accuracy: 0.9971 - val_loss: 0.1522 - val_accuracy: 0.9763\n"
     ]
    }
   ],
   "source": [
    "#Iteration 2\n",
    "optimizer = tf.keras.optimizers.Adam(learning_rate = cyclical_learning_rate_next,amsgrad = True)\n",
    "early_stopping = tf.keras.callbacks.EarlyStopping(patience=10)\n",
    "\n",
    "vgg_next_iter.compile(loss='categorical_crossentropy', optimizer=optimizer, metrics=['accuracy'])\n",
    "\n",
    "early_stopping = tf.keras.callbacks.EarlyStopping(patience=10)\n",
    "\n",
    "history_cyclic_next = vgg_next_iter.fit(datagen.flow(X_train, y_train, batch_size=128),\n",
    "                              epochs=60, validation_data=(X_val, y_val),\n",
    "                               callbacks=[early_stopping])"
   ]
  },
  {
   "cell_type": "code",
   "execution_count": 63,
   "id": "499441be",
   "metadata": {},
   "outputs": [
    {
     "name": "stdout",
     "output_type": "stream",
     "text": [
      "204/204 [==============================] - 4s 21ms/step - loss: 0.2098 - accuracy: 0.9667\n",
      "\n",
      "Loss = 0.20981155335903168\n",
      "Test Accuracy = 0.9666948318481445\n"
     ]
    }
   ],
   "source": [
    "preds_next_iter = vgg_next_iter.evaluate(x= test_x, y=test_labels,  batch_size=128)\n",
    "print()\n",
    "print (\"Loss = \" + str(preds_next_iter[0]))\n",
    "print (\"Test Accuracy = \" + str(preds_next_iter[1]))"
   ]
  },
  {
   "cell_type": "code",
   "execution_count": 84,
   "id": "f203b7e9",
   "metadata": {},
   "outputs": [],
   "source": [
    "result = {'Accuracy' : [], 'Type' : ['Train','Test','Train','Test'], 'CyclicIteration': [1,1,2,2]}\n",
    "\n",
    "result['Accuracy'].append(history_cyclic_history_cyclic_first.history['accuracy'][-1])\n",
    "result['Accuracy'].append(preds_extra[1])\n",
    "\n",
    "result['Accuracy'].append(history_cyclic_next.history['accuracy'][-1])\n",
    "result['Accuracy'].append(preds_next_iter[1])\n",
    "\n",
    "\n"
   ]
  },
  {
   "cell_type": "code",
   "execution_count": 85,
   "id": "98167fe2",
   "metadata": {},
   "outputs": [
    {
     "data": {
      "text/html": [
       "<div>\n",
       "<style scoped>\n",
       "    .dataframe tbody tr th:only-of-type {\n",
       "        vertical-align: middle;\n",
       "    }\n",
       "\n",
       "    .dataframe tbody tr th {\n",
       "        vertical-align: top;\n",
       "    }\n",
       "\n",
       "    .dataframe thead th {\n",
       "        text-align: right;\n",
       "    }\n",
       "</style>\n",
       "<table border=\"1\" class=\"dataframe\">\n",
       "  <thead>\n",
       "    <tr style=\"text-align: right;\">\n",
       "      <th></th>\n",
       "      <th>Accuracy</th>\n",
       "      <th>Type</th>\n",
       "      <th>CyclicIteration</th>\n",
       "    </tr>\n",
       "  </thead>\n",
       "  <tbody>\n",
       "    <tr>\n",
       "      <th>0</th>\n",
       "      <td>0.989133</td>\n",
       "      <td>Train</td>\n",
       "      <td>1</td>\n",
       "    </tr>\n",
       "    <tr>\n",
       "      <th>1</th>\n",
       "      <td>0.965696</td>\n",
       "      <td>Test</td>\n",
       "      <td>1</td>\n",
       "    </tr>\n",
       "    <tr>\n",
       "      <th>2</th>\n",
       "      <td>0.997107</td>\n",
       "      <td>Train</td>\n",
       "      <td>2</td>\n",
       "    </tr>\n",
       "    <tr>\n",
       "      <th>3</th>\n",
       "      <td>0.966695</td>\n",
       "      <td>Test</td>\n",
       "      <td>2</td>\n",
       "    </tr>\n",
       "  </tbody>\n",
       "</table>\n",
       "</div>"
      ],
      "text/plain": [
       "   Accuracy   Type  CyclicIteration\n",
       "0  0.989133  Train                1\n",
       "1  0.965696   Test                1\n",
       "2  0.997107  Train                2\n",
       "3  0.966695   Test                2"
      ]
     },
     "execution_count": 85,
     "metadata": {},
     "output_type": "execute_result"
    }
   ],
   "source": [
    "results = pd.DataFrame(result)\n",
    "results"
   ]
  },
  {
   "cell_type": "code",
   "execution_count": 87,
   "id": "35a1d82b",
   "metadata": {},
   "outputs": [
    {
     "data": {
      "image/png": "[encoded data removed]",
      "text/plain": [
       "<Figure size 648x360 with 1 Axes>"
      ]
     },
     "metadata": {
      "needs_background": "light"
     },
     "output_type": "display_data"
    }
   ],
   "source": [
    "plt.figure(figsize=(9,5))\n",
    "g = sns.barplot(x=\"CyclicIteration\", y=\"Accuracy\", hue = 'Type', data=results)\n",
    "\n",
    "ax=g\n",
    "\n",
    "for p in ax.patches:\n",
    "             ax.annotate(\"%.3f\" % p.get_height(), (p.get_x() + p.get_width() / 2., p.get_height()),\n",
    "                 ha='center', va='center', fontsize=11, color='gray', xytext=(0, 20),\n",
    "                 textcoords='offset points')\n",
    "_ = g.set_ylim(0,1) "
   ]
  }
 ],
 "metadata": {
  "kernelspec": {
   "display_name": "Python (myenv)",
   "language": "python",
   "name": "myenv"
  },
  "language_info": {
   "codemirror_mode": {
    "name": "ipython",
    "version": 3
   },
   "file_extension": ".py",
   "mimetype": "text/x-python",
   "name": "python",
   "nbconvert_exporter": "python",
   "pygments_lexer": "ipython3",
   "version": "3.7.10"
  }
 },
 "nbformat": 4,
 "nbformat_minor": 5
}
